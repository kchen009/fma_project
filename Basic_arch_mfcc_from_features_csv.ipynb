{
 "cells": [
  {
   "cell_type": "code",
   "execution_count": 3,
   "metadata": {
    "colab": {},
    "colab_type": "code",
    "id": "Hdi7lULUPn6U"
   },
   "outputs": [],
   "source": [
    "import utils"
   ]
  },
  {
   "cell_type": "code",
   "execution_count": 4,
   "metadata": {
    "colab": {},
    "colab_type": "code",
    "id": "yk-5ucLNMKWi"
   },
   "outputs": [],
   "source": [
    "import pandas as pd\n",
    "\n",
    "features = utils.load('features.csv')\n",
    "#tracks = utils.load('/content/drive/My Drive/tracks.csv')"
   ]
  },
  {
   "cell_type": "code",
   "execution_count": 5,
   "metadata": {
    "colab": {
     "base_uri": "https://localhost:8080/",
     "height": 513
    },
    "colab_type": "code",
    "id": "FHGs85V9MeKK",
    "outputId": "fc556d20-3a1c-4298-d997-763d95ffbc7c"
   },
   "outputs": [
    {
     "name": "stderr",
     "output_type": "stream",
     "text": [
      "/home/daniel/anaconda3/lib/python3.7/site-packages/IPython/core/interactiveshell.py:3058: DtypeWarning: Columns (0,1,5,6,8,12,18,20,21,22,24,33,34,38,39,44,47,49) have mixed types. Specify dtype option on import or set low_memory=False.\n",
      "  interactivity=interactivity, compiler=compiler, result=result)\n"
     ]
    },
    {
     "data": {
      "text/html": [
       "<div>\n",
       "<style scoped>\n",
       "    .dataframe tbody tr th:only-of-type {\n",
       "        vertical-align: middle;\n",
       "    }\n",
       "\n",
       "    .dataframe tbody tr th {\n",
       "        vertical-align: top;\n",
       "    }\n",
       "\n",
       "    .dataframe thead th {\n",
       "        text-align: right;\n",
       "    }\n",
       "</style>\n",
       "<table border=\"1\" class=\"dataframe\">\n",
       "  <thead>\n",
       "    <tr style=\"text-align: right;\">\n",
       "      <th></th>\n",
       "      <th>track_id</th>\n",
       "      <th>comments</th>\n",
       "      <th>date_created</th>\n",
       "      <th>date_released</th>\n",
       "      <th>engineer</th>\n",
       "      <th>favorites</th>\n",
       "      <th>id</th>\n",
       "      <th>information</th>\n",
       "      <th>listens</th>\n",
       "      <th>producer</th>\n",
       "      <th>...</th>\n",
       "      <th>information</th>\n",
       "      <th>interest</th>\n",
       "      <th>language_code</th>\n",
       "      <th>license</th>\n",
       "      <th>listens</th>\n",
       "      <th>lyricist</th>\n",
       "      <th>number</th>\n",
       "      <th>publisher</th>\n",
       "      <th>tags</th>\n",
       "      <th>title</th>\n",
       "    </tr>\n",
       "  </thead>\n",
       "  <tbody>\n",
       "    <tr>\n",
       "      <td>0</td>\n",
       "      <td>2</td>\n",
       "      <td>0</td>\n",
       "      <td>2008-11-26 01:44:45</td>\n",
       "      <td>2009-01-05 00:00:00</td>\n",
       "      <td>NaN</td>\n",
       "      <td>4</td>\n",
       "      <td>1</td>\n",
       "      <td>&lt;p&gt;&lt;/p&gt;</td>\n",
       "      <td>6073</td>\n",
       "      <td>NaN</td>\n",
       "      <td>...</td>\n",
       "      <td>NaN</td>\n",
       "      <td>4656</td>\n",
       "      <td>en</td>\n",
       "      <td>Attribution-NonCommercial-ShareAlike 3.0 Inter...</td>\n",
       "      <td>1293</td>\n",
       "      <td>NaN</td>\n",
       "      <td>3</td>\n",
       "      <td>NaN</td>\n",
       "      <td>[]</td>\n",
       "      <td>Food</td>\n",
       "    </tr>\n",
       "    <tr>\n",
       "      <td>1</td>\n",
       "      <td>3</td>\n",
       "      <td>0</td>\n",
       "      <td>2008-11-26 01:44:45</td>\n",
       "      <td>2009-01-05 00:00:00</td>\n",
       "      <td>NaN</td>\n",
       "      <td>4</td>\n",
       "      <td>1</td>\n",
       "      <td>&lt;p&gt;&lt;/p&gt;</td>\n",
       "      <td>6073</td>\n",
       "      <td>NaN</td>\n",
       "      <td>...</td>\n",
       "      <td>NaN</td>\n",
       "      <td>1470</td>\n",
       "      <td>en</td>\n",
       "      <td>Attribution-NonCommercial-ShareAlike 3.0 Inter...</td>\n",
       "      <td>514</td>\n",
       "      <td>NaN</td>\n",
       "      <td>4</td>\n",
       "      <td>NaN</td>\n",
       "      <td>[]</td>\n",
       "      <td>Electric Ave</td>\n",
       "    </tr>\n",
       "    <tr>\n",
       "      <td>2</td>\n",
       "      <td>5</td>\n",
       "      <td>0</td>\n",
       "      <td>2008-11-26 01:44:45</td>\n",
       "      <td>2009-01-05 00:00:00</td>\n",
       "      <td>NaN</td>\n",
       "      <td>4</td>\n",
       "      <td>1</td>\n",
       "      <td>&lt;p&gt;&lt;/p&gt;</td>\n",
       "      <td>6073</td>\n",
       "      <td>NaN</td>\n",
       "      <td>...</td>\n",
       "      <td>NaN</td>\n",
       "      <td>1933</td>\n",
       "      <td>en</td>\n",
       "      <td>Attribution-NonCommercial-ShareAlike 3.0 Inter...</td>\n",
       "      <td>1151</td>\n",
       "      <td>NaN</td>\n",
       "      <td>6</td>\n",
       "      <td>NaN</td>\n",
       "      <td>[]</td>\n",
       "      <td>This World</td>\n",
       "    </tr>\n",
       "    <tr>\n",
       "      <td>3</td>\n",
       "      <td>10</td>\n",
       "      <td>0</td>\n",
       "      <td>2008-11-26 01:45:08</td>\n",
       "      <td>2008-02-06 00:00:00</td>\n",
       "      <td>NaN</td>\n",
       "      <td>4</td>\n",
       "      <td>6</td>\n",
       "      <td>NaN</td>\n",
       "      <td>47632</td>\n",
       "      <td>NaN</td>\n",
       "      <td>...</td>\n",
       "      <td>NaN</td>\n",
       "      <td>54881</td>\n",
       "      <td>en</td>\n",
       "      <td>Attribution-NonCommercial-NoDerivatives (aka M...</td>\n",
       "      <td>50135</td>\n",
       "      <td>NaN</td>\n",
       "      <td>1</td>\n",
       "      <td>NaN</td>\n",
       "      <td>[]</td>\n",
       "      <td>Freeway</td>\n",
       "    </tr>\n",
       "    <tr>\n",
       "      <td>4</td>\n",
       "      <td>20</td>\n",
       "      <td>0</td>\n",
       "      <td>2008-11-26 01:45:05</td>\n",
       "      <td>2009-01-06 00:00:00</td>\n",
       "      <td>NaN</td>\n",
       "      <td>2</td>\n",
       "      <td>4</td>\n",
       "      <td>&lt;p&gt; \"spiritual songs\" from Nicky Cook&lt;/p&gt;</td>\n",
       "      <td>2710</td>\n",
       "      <td>NaN</td>\n",
       "      <td>...</td>\n",
       "      <td>NaN</td>\n",
       "      <td>978</td>\n",
       "      <td>en</td>\n",
       "      <td>Attribution-NonCommercial-NoDerivatives (aka M...</td>\n",
       "      <td>361</td>\n",
       "      <td>NaN</td>\n",
       "      <td>3</td>\n",
       "      <td>NaN</td>\n",
       "      <td>[]</td>\n",
       "      <td>Spiritual Level</td>\n",
       "    </tr>\n",
       "  </tbody>\n",
       "</table>\n",
       "<p>5 rows × 53 columns</p>\n",
       "</div>"
      ],
      "text/plain": [
       "  track_id comments         date_created        date_released engineer  \\\n",
       "0        2        0  2008-11-26 01:44:45  2009-01-05 00:00:00      NaN   \n",
       "1        3        0  2008-11-26 01:44:45  2009-01-05 00:00:00      NaN   \n",
       "2        5        0  2008-11-26 01:44:45  2009-01-05 00:00:00      NaN   \n",
       "3       10        0  2008-11-26 01:45:08  2008-02-06 00:00:00      NaN   \n",
       "4       20        0  2008-11-26 01:45:05  2009-01-06 00:00:00      NaN   \n",
       "\n",
       "  favorites id                                information listens producer  \\\n",
       "0         4  1                                    <p></p>    6073      NaN   \n",
       "1         4  1                                    <p></p>    6073      NaN   \n",
       "2         4  1                                    <p></p>    6073      NaN   \n",
       "3         4  6                                        NaN   47632      NaN   \n",
       "4         2  4  <p> \"spiritual songs\" from Nicky Cook</p>    2710      NaN   \n",
       "\n",
       "   ... information interest language_code  \\\n",
       "0  ...         NaN     4656            en   \n",
       "1  ...         NaN     1470            en   \n",
       "2  ...         NaN     1933            en   \n",
       "3  ...         NaN    54881            en   \n",
       "4  ...         NaN      978            en   \n",
       "\n",
       "                                             license listens lyricist number  \\\n",
       "0  Attribution-NonCommercial-ShareAlike 3.0 Inter...    1293      NaN      3   \n",
       "1  Attribution-NonCommercial-ShareAlike 3.0 Inter...     514      NaN      4   \n",
       "2  Attribution-NonCommercial-ShareAlike 3.0 Inter...    1151      NaN      6   \n",
       "3  Attribution-NonCommercial-NoDerivatives (aka M...   50135      NaN      1   \n",
       "4  Attribution-NonCommercial-NoDerivatives (aka M...     361      NaN      3   \n",
       "\n",
       "  publisher tags            title  \n",
       "0       NaN   []             Food  \n",
       "1       NaN   []     Electric Ave  \n",
       "2       NaN   []       This World  \n",
       "3       NaN   []          Freeway  \n",
       "4       NaN   []  Spiritual Level  \n",
       "\n",
       "[5 rows x 53 columns]"
      ]
     },
     "execution_count": 5,
     "metadata": {},
     "output_type": "execute_result"
    }
   ],
   "source": [
    "import pandas as pd\n",
    "\n",
    "tracks = pd.read_csv('tracks.csv')\n",
    "tracks.columns = tracks.iloc[0]\n",
    "tracks = tracks.drop([0, 1])\n",
    "new_cols = tracks.columns.values\n",
    "new_cols[0] = 'track_id'\n",
    "tracks.columns = new_cols\n",
    "tracks = tracks.reset_index(drop=True)\n",
    "tracks.head()"
   ]
  },
  {
   "cell_type": "code",
   "execution_count": 6,
   "metadata": {
    "colab": {
     "base_uri": "https://localhost:8080/",
     "height": 315
    },
    "colab_type": "code",
    "id": "5o-iCFVQYZUD",
    "outputId": "839169e1-5940-4d2a-d397-816074135d67"
   },
   "outputs": [
    {
     "data": {
      "text/html": [
       "<div>\n",
       "<style scoped>\n",
       "    .dataframe tbody tr th:only-of-type {\n",
       "        vertical-align: middle;\n",
       "    }\n",
       "\n",
       "    .dataframe tbody tr th {\n",
       "        vertical-align: top;\n",
       "    }\n",
       "\n",
       "    .dataframe thead tr th {\n",
       "        text-align: left;\n",
       "    }\n",
       "</style>\n",
       "<table border=\"1\" class=\"dataframe\">\n",
       "  <thead>\n",
       "    <tr>\n",
       "      <th>feature</th>\n",
       "      <th>track_id</th>\n",
       "      <th colspan=\"9\" halign=\"left\">chroma_cens</th>\n",
       "      <th>...</th>\n",
       "      <th colspan=\"3\" halign=\"left\">tonnetz</th>\n",
       "      <th colspan=\"7\" halign=\"left\">zcr</th>\n",
       "    </tr>\n",
       "    <tr>\n",
       "      <th>statistics</th>\n",
       "      <th></th>\n",
       "      <th colspan=\"9\" halign=\"left\">kurtosis</th>\n",
       "      <th>...</th>\n",
       "      <th colspan=\"3\" halign=\"left\">std</th>\n",
       "      <th>kurtosis</th>\n",
       "      <th>max</th>\n",
       "      <th>mean</th>\n",
       "      <th>median</th>\n",
       "      <th>min</th>\n",
       "      <th>skew</th>\n",
       "      <th>std</th>\n",
       "    </tr>\n",
       "    <tr>\n",
       "      <th>number</th>\n",
       "      <th></th>\n",
       "      <th>01</th>\n",
       "      <th>02</th>\n",
       "      <th>03</th>\n",
       "      <th>04</th>\n",
       "      <th>05</th>\n",
       "      <th>06</th>\n",
       "      <th>07</th>\n",
       "      <th>08</th>\n",
       "      <th>09</th>\n",
       "      <th>...</th>\n",
       "      <th>04</th>\n",
       "      <th>05</th>\n",
       "      <th>06</th>\n",
       "      <th>01</th>\n",
       "      <th>01</th>\n",
       "      <th>01</th>\n",
       "      <th>01</th>\n",
       "      <th>01</th>\n",
       "      <th>01</th>\n",
       "      <th>01</th>\n",
       "    </tr>\n",
       "  </thead>\n",
       "  <tbody>\n",
       "    <tr>\n",
       "      <td>0</td>\n",
       "      <td>2</td>\n",
       "      <td>7.180653</td>\n",
       "      <td>5.230309</td>\n",
       "      <td>0.249321</td>\n",
       "      <td>1.347620</td>\n",
       "      <td>1.482478</td>\n",
       "      <td>0.531371</td>\n",
       "      <td>1.481593</td>\n",
       "      <td>2.691455</td>\n",
       "      <td>0.866868</td>\n",
       "      <td>...</td>\n",
       "      <td>0.054125</td>\n",
       "      <td>0.012226</td>\n",
       "      <td>0.012111</td>\n",
       "      <td>5.758890</td>\n",
       "      <td>0.459473</td>\n",
       "      <td>0.085629</td>\n",
       "      <td>0.071289</td>\n",
       "      <td>0.000000</td>\n",
       "      <td>2.089872</td>\n",
       "      <td>0.061448</td>\n",
       "    </tr>\n",
       "    <tr>\n",
       "      <td>1</td>\n",
       "      <td>3</td>\n",
       "      <td>1.888963</td>\n",
       "      <td>0.760539</td>\n",
       "      <td>0.345297</td>\n",
       "      <td>2.295201</td>\n",
       "      <td>1.654031</td>\n",
       "      <td>0.067592</td>\n",
       "      <td>1.366848</td>\n",
       "      <td>1.054094</td>\n",
       "      <td>0.108103</td>\n",
       "      <td>...</td>\n",
       "      <td>0.063831</td>\n",
       "      <td>0.014212</td>\n",
       "      <td>0.017740</td>\n",
       "      <td>2.824694</td>\n",
       "      <td>0.466309</td>\n",
       "      <td>0.084578</td>\n",
       "      <td>0.063965</td>\n",
       "      <td>0.000000</td>\n",
       "      <td>1.716724</td>\n",
       "      <td>0.069330</td>\n",
       "    </tr>\n",
       "    <tr>\n",
       "      <td>2</td>\n",
       "      <td>5</td>\n",
       "      <td>0.527563</td>\n",
       "      <td>-0.077654</td>\n",
       "      <td>-0.279610</td>\n",
       "      <td>0.685883</td>\n",
       "      <td>1.937570</td>\n",
       "      <td>0.880839</td>\n",
       "      <td>-0.923192</td>\n",
       "      <td>-0.927232</td>\n",
       "      <td>0.666617</td>\n",
       "      <td>...</td>\n",
       "      <td>0.040730</td>\n",
       "      <td>0.012691</td>\n",
       "      <td>0.014759</td>\n",
       "      <td>6.808415</td>\n",
       "      <td>0.375000</td>\n",
       "      <td>0.053114</td>\n",
       "      <td>0.041504</td>\n",
       "      <td>0.000000</td>\n",
       "      <td>2.193303</td>\n",
       "      <td>0.044861</td>\n",
       "    </tr>\n",
       "    <tr>\n",
       "      <td>3</td>\n",
       "      <td>10</td>\n",
       "      <td>3.702245</td>\n",
       "      <td>-0.291193</td>\n",
       "      <td>2.196742</td>\n",
       "      <td>-0.234449</td>\n",
       "      <td>1.367364</td>\n",
       "      <td>0.998411</td>\n",
       "      <td>1.770694</td>\n",
       "      <td>1.604566</td>\n",
       "      <td>0.521217</td>\n",
       "      <td>...</td>\n",
       "      <td>0.074358</td>\n",
       "      <td>0.017952</td>\n",
       "      <td>0.013921</td>\n",
       "      <td>21.434212</td>\n",
       "      <td>0.452148</td>\n",
       "      <td>0.077515</td>\n",
       "      <td>0.071777</td>\n",
       "      <td>0.000000</td>\n",
       "      <td>3.542325</td>\n",
       "      <td>0.040800</td>\n",
       "    </tr>\n",
       "    <tr>\n",
       "      <td>4</td>\n",
       "      <td>20</td>\n",
       "      <td>-0.193837</td>\n",
       "      <td>-0.198527</td>\n",
       "      <td>0.201546</td>\n",
       "      <td>0.258556</td>\n",
       "      <td>0.775204</td>\n",
       "      <td>0.084794</td>\n",
       "      <td>-0.289294</td>\n",
       "      <td>-0.816410</td>\n",
       "      <td>0.043851</td>\n",
       "      <td>...</td>\n",
       "      <td>0.095003</td>\n",
       "      <td>0.022492</td>\n",
       "      <td>0.021355</td>\n",
       "      <td>16.669037</td>\n",
       "      <td>0.469727</td>\n",
       "      <td>0.047225</td>\n",
       "      <td>0.040039</td>\n",
       "      <td>0.000977</td>\n",
       "      <td>3.189831</td>\n",
       "      <td>0.030993</td>\n",
       "    </tr>\n",
       "  </tbody>\n",
       "</table>\n",
       "<p>5 rows × 519 columns</p>\n",
       "</div>"
      ],
      "text/plain": [
       "feature    track_id chroma_cens                                          \\\n",
       "statistics             kurtosis                                           \n",
       "number                       01        02        03        04        05   \n",
       "0                 2    7.180653  5.230309  0.249321  1.347620  1.482478   \n",
       "1                 3    1.888963  0.760539  0.345297  2.295201  1.654031   \n",
       "2                 5    0.527563 -0.077654 -0.279610  0.685883  1.937570   \n",
       "3                10    3.702245 -0.291193  2.196742 -0.234449  1.367364   \n",
       "4                20   -0.193837 -0.198527  0.201546  0.258556  0.775204   \n",
       "\n",
       "feature                                             ...   tonnetz            \\\n",
       "statistics                                          ...       std             \n",
       "number            06        07        08        09  ...        04        05   \n",
       "0           0.531371  1.481593  2.691455  0.866868  ...  0.054125  0.012226   \n",
       "1           0.067592  1.366848  1.054094  0.108103  ...  0.063831  0.014212   \n",
       "2           0.880839 -0.923192 -0.927232  0.666617  ...  0.040730  0.012691   \n",
       "3           0.998411  1.770694  1.604566  0.521217  ...  0.074358  0.017952   \n",
       "4           0.084794 -0.289294 -0.816410  0.043851  ...  0.095003  0.022492   \n",
       "\n",
       "feature                     zcr                                          \\\n",
       "statistics             kurtosis       max      mean    median       min   \n",
       "number            06         01        01        01        01        01   \n",
       "0           0.012111   5.758890  0.459473  0.085629  0.071289  0.000000   \n",
       "1           0.017740   2.824694  0.466309  0.084578  0.063965  0.000000   \n",
       "2           0.014759   6.808415  0.375000  0.053114  0.041504  0.000000   \n",
       "3           0.013921  21.434212  0.452148  0.077515  0.071777  0.000000   \n",
       "4           0.021355  16.669037  0.469727  0.047225  0.040039  0.000977   \n",
       "\n",
       "feature                         \n",
       "statistics      skew       std  \n",
       "number            01        01  \n",
       "0           2.089872  0.061448  \n",
       "1           1.716724  0.069330  \n",
       "2           2.193303  0.044861  \n",
       "3           3.542325  0.040800  \n",
       "4           3.189831  0.030993  \n",
       "\n",
       "[5 rows x 519 columns]"
      ]
     },
     "execution_count": 6,
     "metadata": {},
     "output_type": "execute_result"
    }
   ],
   "source": [
    "features = features.reset_index()\n",
    "features.head()"
   ]
  },
  {
   "cell_type": "code",
   "execution_count": 7,
   "metadata": {
    "colab": {
     "base_uri": "https://localhost:8080/",
     "height": 51
    },
    "colab_type": "code",
    "id": "25ggt5KvXurs",
    "outputId": "763229ce-202e-4e1e-b5e5-e622c72860e2"
   },
   "outputs": [
    {
     "name": "stdout",
     "output_type": "stream",
     "text": [
      "6400 training examples, 800 testing examples\n",
      "140 features, 8 classes\n"
     ]
    }
   ],
   "source": [
    "#small = tracks['set', 'subset'] <= 'small'\n",
    "\n",
    "#train = tracks['set', 'split'] == 'training'\n",
    "#val = tracks['set', 'split'] == 'validation'\n",
    "#test = tracks['set', 'split'] == 'test'\n",
    "import numpy as np\n",
    "\n",
    "\n",
    "tracks['subset'] = tracks['subset'].astype(str)\n",
    "tracks['split'] = tracks['split'].astype(str)\n",
    "tracks['genre_top'] = tracks['genre_top'].astype(str)\n",
    "\n",
    "y_train = tracks.loc[(tracks['subset'] == 'small') & (tracks['split'] == 'training')]['genre_top']\n",
    "y_val = tracks.loc[(tracks['subset'] == 'small') & (tracks['split'] == 'validation')]['genre_top']\n",
    "y_test = tracks.loc[(tracks['subset'] == 'small') & (tracks['split'] == 'test')]['genre_top']\n",
    "X_train = features.loc[(tracks['subset'] == 'small') & (tracks['split'] == 'training')]['mfcc']\n",
    "X_test = features.loc[(tracks['subset'] == 'small') & (tracks['split'] == 'test')]['mfcc']\n",
    "X_val = features.loc[(tracks['subset'] == 'small') & (tracks['split'] == 'validation')]['mfcc']\n",
    "\n",
    "print('{} training examples, {} testing examples'.format(y_train.size, y_test.size))\n",
    "print('{} features, {} classes'.format(X_train.shape[1], np.unique(y_train).size))"
   ]
  },
  {
   "cell_type": "code",
   "execution_count": 8,
   "metadata": {
    "colab": {
     "base_uri": "https://localhost:8080/",
     "height": 51
    },
    "colab_type": "code",
    "id": "b2_bOAxYjyvv",
    "outputId": "06758114-43d1-4215-912d-46d766e25c07"
   },
   "outputs": [
    {
     "data": {
      "text/plain": [
       "array(['Electronic', 'Experimental', 'Folk', 'Hip-Hop', 'Instrumental',\n",
       "       'International', 'Pop', 'Rock'], dtype=object)"
      ]
     },
     "execution_count": 8,
     "metadata": {},
     "output_type": "execute_result"
    }
   ],
   "source": [
    "np.unique(y_train)"
   ]
  },
  {
   "cell_type": "code",
   "execution_count": 9,
   "metadata": {
    "colab": {
     "base_uri": "https://localhost:8080/",
     "height": 51
    },
    "colab_type": "code",
    "id": "UeQkiYtylB3Z",
    "outputId": "01f66028-87c4-4fba-e6a3-69e3e5e1fc6c"
   },
   "outputs": [
    {
     "data": {
      "text/plain": [
       "array(['Electronic', 'Experimental', 'Folk', 'Hip-Hop', 'Instrumental',\n",
       "       'International', 'Pop', 'Rock'], dtype=object)"
      ]
     },
     "execution_count": 9,
     "metadata": {},
     "output_type": "execute_result"
    }
   ],
   "source": [
    "np.unique(y_test)"
   ]
  },
  {
   "cell_type": "code",
   "execution_count": 10,
   "metadata": {
    "colab": {
     "base_uri": "https://localhost:8080/",
     "height": 34
    },
    "colab_type": "code",
    "id": "08O85-Uxljct",
    "outputId": "cf813508-d916-40ba-8cab-2c3632c2f6a5"
   },
   "outputs": [
    {
     "name": "stderr",
     "output_type": "stream",
     "text": [
      "/home/daniel/anaconda3/lib/python3.7/site-packages/sklearn/ensemble/forest.py:245: FutureWarning: The default value of n_estimators will change from 10 in version 0.20 to 100 in 0.22.\n",
      "  \"10 in version 0.20 to 100 in 0.22.\", FutureWarning)\n"
     ]
    },
    {
     "name": "stdout",
     "output_type": "stream",
     "text": [
      "Random Forest Score: 0.99296875\n"
     ]
    }
   ],
   "source": [
    "import sklearn as skl\n",
    "import sklearn.preprocessing\n",
    "\n",
    "X_train, y_train = skl.utils.shuffle(X_train, y_train, random_state=42)\n",
    "scaler = skl.preprocessing.StandardScaler(copy=False)\n",
    "X_train = scaler.fit_transform(X_train)\n",
    "X_val = scaler.transform(X_val)\n",
    "X_test = scaler.transform(X_test)\n",
    "\n",
    "from sklearn.ensemble import RandomForestClassifier\n",
    "import matplotlib.pyplot as plt\n",
    "\n",
    "RF = RandomForestClassifier()\n",
    "ran_for = RF.fit(X_train, y_train)\n",
    "RF_score = ran_for.score(X_train, y_train)\n",
    "\n",
    "print(\"Random Forest Score: \" + str(RF_score))"
   ]
  },
  {
   "cell_type": "code",
   "execution_count": 11,
   "metadata": {
    "colab": {
     "base_uri": "https://localhost:8080/",
     "height": 34
    },
    "colab_type": "code",
    "id": "8BiiwgtnmDVg",
    "outputId": "613e5e0f-0672-4eb7-9a58-d01972b4796e"
   },
   "outputs": [
    {
     "name": "stdout",
     "output_type": "stream",
     "text": [
      "Random Forest Score: 0.4525\n"
     ]
    }
   ],
   "source": [
    "RF_test = ran_for.score(X_val, y_val)\n",
    "\n",
    "print(\"Random Forest Score: \" + str(RF_test))"
   ]
  },
  {
   "cell_type": "code",
   "execution_count": 12,
   "metadata": {
    "colab": {
     "base_uri": "https://localhost:8080/",
     "height": 527
    },
    "colab_type": "code",
    "id": "IDXjdomRsbKN",
    "outputId": "c59bdca7-0450-451f-b6ac-8f67b0fc1a1e"
   },
   "outputs": [],
   "source": [
    "y_train = np.array(y_train)\n",
    "y_val = np.array(y_val)\n",
    "y_test = np.array(y_test)"
   ]
  },
  {
   "cell_type": "code",
   "execution_count": 13,
   "metadata": {
    "colab": {},
    "colab_type": "code",
    "id": "MDSGiKFLtGXV"
   },
   "outputs": [],
   "source": [
    "from sklearn.preprocessing import LabelEncoder\n",
    "\n",
    "le = LabelEncoder()\n",
    "y_train = le.fit_transform(y_train)\n",
    "y_val = le.transform(y_val)\n",
    "y_test = le.transform(y_test)"
   ]
  },
  {
   "cell_type": "code",
   "execution_count": 14,
   "metadata": {
    "colab": {},
    "colab_type": "code",
    "id": "NlhfrBV2nAQq"
   },
   "outputs": [],
   "source": [
    "import tensorflow as tf\n",
    "\n",
    "y_train = tf.keras.utils.to_categorical(y_train, num_classes=8, dtype='int32')\n",
    "y_val = tf.keras.utils.to_categorical(y_val, num_classes=8, dtype='int32')\n",
    "y_test = tf.keras.utils.to_categorical(y_test, num_classes=8, dtype='int32')"
   ]
  },
  {
   "cell_type": "code",
   "execution_count": 15,
   "metadata": {
    "colab": {
     "base_uri": "https://localhost:8080/",
     "height": 612
    },
    "colab_type": "code",
    "id": "GClqkh3QpZLV",
    "outputId": "724d1d5f-1328-451b-e6cc-97b441709d35"
   },
   "outputs": [
    {
     "data": {
      "text/plain": [
       "array([-0.22523181, -0.45338181,  0.40686407, -0.12711467,  0.0832777 ,\n",
       "       -0.36699721, -0.65456896, -0.53287677, -0.51443483, -0.49639243,\n",
       "        0.17098347,  0.11411216,  0.66632894,  2.09214894,  1.34797479,\n",
       "        0.11942389,  0.55360107,  0.71199253,  4.13663218,  4.05247313,\n",
       "        0.91566051,  0.62597671, -0.55880746, -1.34135543, -1.39236275,\n",
       "       -1.22332363, -1.02467837, -1.14237013, -1.25273333, -0.8270932 ,\n",
       "        0.14612826,  0.08486021, -0.40468563,  1.47947377,  0.71684398,\n",
       "        0.38072489,  0.61538206,  0.42030442,  2.24254944,  2.27898357,\n",
       "        0.16417312,  0.08655967, -0.91328789, -0.81375718, -0.96409979,\n",
       "       -0.67928352, -1.50988924, -0.9497647 , -1.68141807, -0.75189375,\n",
       "       -1.68415119, -1.41285163, -1.45857316, -0.86698835, -0.66983148,\n",
       "       -0.39352314, -0.77294708, -0.94773729, -0.62375284, -0.84089234,\n",
       "        0.25098007,  0.02972327, -0.87928279, -0.65440687, -0.95088382,\n",
       "       -0.66292798, -1.55742187, -0.95760126, -1.67684384, -0.75810013,\n",
       "       -1.76729722, -1.4279364 , -1.51878997, -0.8589735 , -0.69400538,\n",
       "       -0.40624296, -0.762918  , -1.00595072, -0.73537325, -1.03082385,\n",
       "       -0.48677921,  0.45511633, -1.4806347 , -0.52842539, -0.7077605 ,\n",
       "       -0.78003416, -0.21540073, -0.45323326, -0.86430697,  0.20975797,\n",
       "       -0.20012471, -0.40026312, -1.38868791, -0.72697549, -0.60108243,\n",
       "       -0.31457761, -1.02653063, -0.5125565 , -0.63423941, -0.4946915 ,\n",
       "        0.15478374,  0.59442597,  0.10743131, -0.89018231, -0.15974623,\n",
       "       -0.13103956,  0.64867645,  0.1803463 ,  0.02906533,  0.28219974,\n",
       "        1.10234855,  0.5106418 ,  0.55463826,  0.37327807,  0.7640093 ,\n",
       "        0.34871468, -0.02239438,  1.17482311,  2.67028483,  3.49417225,\n",
       "        0.98840911, -0.15002873, -0.13740842, -0.46710154, -0.46829853,\n",
       "       -0.73302506, -0.39072534, -0.58078749, -0.39741925, -0.5913056 ,\n",
       "       -0.46438677, -0.30375741, -0.15388995, -0.23548409, -0.4783827 ,\n",
       "       -0.40554989,  0.06592178, -0.07888294,  0.26518577,  0.76894281])"
      ]
     },
     "execution_count": 15,
     "metadata": {},
     "output_type": "execute_result"
    }
   ],
   "source": [
    "X_train = np.array(X_train)\n",
    "X_val = np.array(X_val)\n",
    "y_train = np.array(y_train)\n",
    "y_val = np.array(y_val)\n",
    "X_test = np.array(X_test)\n",
    "y_test = np.array(y_test)\n",
    "\n",
    "X_train[0]"
   ]
  },
  {
   "cell_type": "code",
   "execution_count": 16,
   "metadata": {
    "colab": {
     "base_uri": "https://localhost:8080/",
     "height": 34
    },
    "colab_type": "code",
    "id": "t5Z71V0ku2Tw",
    "outputId": "84a14752-6e57-476d-d07c-e2e1cb30fdf2"
   },
   "outputs": [
    {
     "data": {
      "text/plain": [
       "6400"
      ]
     },
     "execution_count": 16,
     "metadata": {},
     "output_type": "execute_result"
    }
   ],
   "source": [
    "len(X_train)"
   ]
  },
  {
   "cell_type": "code",
   "execution_count": 31,
   "metadata": {
    "colab": {
     "base_uri": "https://localhost:8080/",
     "height": 1000
    },
    "colab_type": "code",
    "id": "KG4GQurwmlEt",
    "outputId": "fdb19fc0-ed5e-4846-a0ae-3b864897e3f6"
   },
   "outputs": [
    {
     "data": {
      "image/png": "[encoded data removed]",
      "text/plain": [
       "<Figure size 432x288 with 1 Axes>"
      ]
     },
     "metadata": {
      "needs_background": "light"
     },
     "output_type": "display_data"
    },
    {
     "data": {
      "image/png": "[encoded data removed]",
      "text/plain": [
       "<Figure size 432x288 with 1 Axes>"
      ]
     },
     "metadata": {
      "needs_background": "light"
     },
     "output_type": "display_data"
    },
    {
     "name": "stdout",
     "output_type": "stream",
     "text": [
      "Train:\n",
      "[1.2946803000569345, 0.5965625047683716]\n",
      "Val:\n",
      "[1.4327693367004395, 0.5674999952316284]\n"
     ]
    }
   ],
   "source": [
    "import keras\n",
    "from keras.layers import Dense, Dropout\n",
    "from keras.callbacks import ModelCheckpoint\n",
    "from keras.models import load_model\n",
    "\n",
    "activation='relu'\n",
    "weight_init='glorot_uniform'\n",
    "optimizer=keras.optimizers.Adam(lr=0.001)\n",
    "metrics=['accuracy']\n",
    "epochs = 200\n",
    "batch_size=None\n",
    "\n",
    "model = keras.Sequential()\n",
    "model.add(Dense(50, activation=activation, kernel_regularizer=keras.regularizers.l2(), kernel_initializer=weight_init, input_shape=(X_train.shape[1],)))\n",
    "model.add(Dropout(0.5))\n",
    "model.add(Dense(50, activation=activation, kernel_regularizer=keras.regularizers.l2()))\n",
    "model.add(Dropout(0.5))\n",
    "model.add(Dense(8, activation='softmax'))\n",
    "model.compile(optimizer=optimizer, loss=keras.losses.CategoricalCrossentropy(), metrics=metrics)\n",
    "mcp_save = ModelCheckpoint('best_model.hdf5', save_best_only=True, monitor='val_accuracy', mode='max', verbose=0)\n",
    "history = model.fit(X_train, y_train, validation_data=(X_val, y_val), epochs=epochs, verbose=0, callbacks=[mcp_save])\n",
    "plt.plot(history.history['' + metrics[0]])\n",
    "plt.plot(history.history['val_accuracy'])\n",
    "plt.legend(['Train', 'Val'], loc='upper left')\n",
    "plt.show()\n",
    "plt.plot(history.history['loss'])\n",
    "plt.plot(history.history['val_loss'])\n",
    "plt.show()\n",
    "\n",
    "best_model = load_model('best_model.hdf5')\n",
    "print(\"Train:\")\n",
    "print(best_model.evaluate(X_train, y_train, verbose=2))\n",
    "print(\"Val:\")\n",
    "print(best_model.evaluate(X_val, y_val, verbose=2))"
   ]
  },
  {
   "cell_type": "code",
   "execution_count": 32,
   "metadata": {},
   "outputs": [],
   "source": [
    "X_crossval = np.concatenate((X_train, X_val), axis=0)\n",
    "y_crossval = np.concatenate((y_train, y_val), axis=0)"
   ]
  },
  {
   "cell_type": "code",
   "execution_count": 35,
   "metadata": {},
   "outputs": [
    {
     "name": "stdout",
     "output_type": "stream",
     "text": [
      "accuracy: 53.33%\n",
      "accuracy: 53.54%\n",
      "accuracy: 56.18%\n",
      "accuracy: 53.26%\n",
      "accuracy: 54.65%\n",
      "54.19% (+/- 1.11%)\n"
     ]
    }
   ],
   "source": [
    "from sklearn.model_selection import StratifiedKFold\n",
    "\n",
    "kf = StratifiedKFold(n_splits=5, shuffle=True, random_state=42)\n",
    "cvscores=[]\n",
    "\n",
    "for i, (train_index, val_index) in enumerate(kf.split(X_crossval, y_crossval.argmax(1))):\n",
    "    x_train_kf, x_val_kf = X_crossval[train_index], X_crossval[val_index]\n",
    "    y_train_kf, y_val_kf = y_crossval[train_index], y_crossval[val_index]\n",
    "    \n",
    "    # create model\n",
    "    activation='relu'\n",
    "    weight_init='glorot_uniform'\n",
    "    optimizer=keras.optimizers.Adam(lr=0.001)\n",
    "    metrics=['accuracy']\n",
    "    epochs = 200\n",
    "    batch_size=None\n",
    "\n",
    "    model = keras.Sequential()\n",
    "    model.add(Dense(50, activation=activation, kernel_regularizer=keras.regularizers.l2(), kernel_initializer=weight_init, input_shape=(X_train.shape[1],)))\n",
    "    model.add(Dropout(0.5))\n",
    "    model.add(Dense(50, activation=activation, kernel_regularizer=keras.regularizers.l2()))\n",
    "    model.add(Dropout(0.5))\n",
    "    model.add(Dense(8, activation='softmax'))\n",
    "    model.compile(optimizer=optimizer, loss=keras.losses.CategoricalCrossentropy(), metrics=metrics)\n",
    "    mcp_save = ModelCheckpoint('best_model_cv.hdf5', save_best_only=True, monitor='val_accuracy', mode='max', verbose=0)\n",
    "    history = model.fit(x_train_kf, y_train_kf, validation_data=(x_val_kf, y_val_kf), epochs=epochs, verbose=0, callbacks=[mcp_save])\n",
    "    \n",
    "    # evaluate the model\n",
    "    model = load_model('best_model_cv.hdf5')\n",
    "    scores = model.evaluate(x_val_kf, y_val_kf, verbose=0)\n",
    "    print(\"%s: %.2f%%\" % (model.metrics_names[1], scores[1]*100))\n",
    "    cvscores.append(scores[1] * 100)\n",
    "\n",
    "print(\"%.2f%% (+/- %.2f%%)\" % (np.mean(cvscores), np.std(cvscores)))"
   ]
  },
  {
   "cell_type": "markdown",
   "metadata": {},
   "source": [
    "### On test set"
   ]
  },
  {
   "cell_type": "code",
   "execution_count": 36,
   "metadata": {},
   "outputs": [
    {
     "data": {
      "text/plain": [
       "[1.7336268329620361, 0.4449999928474426]"
      ]
     },
     "execution_count": 36,
     "metadata": {},
     "output_type": "execute_result"
    }
   ],
   "source": [
    "model.evaluate(X_test, y_test, verbose=2)"
   ]
  }
 ],
 "metadata": {
  "accelerator": "GPU",
  "colab": {
   "collapsed_sections": [],
   "name": "Music_Project.ipynb",
   "provenance": []
  },
  "kernelspec": {
   "display_name": "Python 3",
   "language": "python",
   "name": "python3"
  },
  "language_info": {
   "codemirror_mode": {
    "name": "ipython",
    "version": 3
   },
   "file_extension": ".py",
   "mimetype": "text/x-python",
   "name": "python",
   "nbconvert_exporter": "python",
   "pygments_lexer": "ipython3",
   "version": "3.7.4"
  }
 },
 "nbformat": 4,
 "nbformat_minor": 4
}
