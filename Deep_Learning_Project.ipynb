{
  "nbformat": 4,
  "nbformat_minor": 0,
  "metadata": {
    "colab": {
      "name": "Deep_Learning_Project.ipynb",
      "provenance": [],
      "collapsed_sections": [],
      "authorship_tag": "ABX9TyOjc1XmWZV/BLqZyp27akyc",
      "include_colab_link": true
    },
    "kernelspec": {
      "name": "python3",
      "display_name": "Python 3"
    }
  },
  "cells": [
    {
      "cell_type": "markdown",
      "metadata": {
        "id": "view-in-github",
        "colab_type": "text"
      },
      "source": [
        "<a href=\"https://colab.research.google.com/github/kikwon/fma_project/blob/master/Deep_Learning_Project.ipynb\" target=\"_parent\"><img src=\"https://colab.research.google.com/assets/colab-badge.svg\" alt=\"Open In Colab\"/></a>"
      ]
    },
    {
      "cell_type": "markdown",
      "metadata": {
        "id": "TeAZfCgMhr0x",
        "colab_type": "text"
      },
      "source": [
        "# Deep Learning Project"
      ]
    },
    {
      "cell_type": "code",
      "metadata": {
        "id": "Ejys3hCxhAww",
        "colab_type": "code",
        "colab": {
          "base_uri": "https://localhost:8080/",
          "height": 35
        },
        "outputId": "c2684fde-1dd6-4343-d85c-14e7adefffde"
      },
      "source": [
        "print(\"This is the final project.\")"
      ],
      "execution_count": 2,
      "outputs": [
        {
          "output_type": "stream",
          "text": [
            "This is the final project.\n"
          ],
          "name": "stdout"
        }
      ]
    }
  ]
}